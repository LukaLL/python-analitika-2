{
 "cells": [
  {
   "cell_type": "markdown",
   "metadata": {},
   "source": [
    "# Dataset\n",
    "https://www.kaggle.com/datasnaek/chess"
   ]
  },
  {
   "cell_type": "markdown",
   "metadata": {},
   "source": [
    "Dataset dostopen na linku: https://we.tl/t-HV2GgeaiFa"
   ]
  },
  {
   "cell_type": "code",
   "execution_count": 1,
   "metadata": {},
   "outputs": [],
   "source": [
    "import pandas as pd"
   ]
  },
  {
   "cell_type": "markdown",
   "metadata": {},
   "source": [
    "# White vs Black\n",
    "\n",
    "Iz našega dataseta bomo potegnili informacijo ali se bolj splača biti White ali Black igralec.\n",
    "\n",
    "Chunksize naj bo 250.\n",
    "\n",
    "Stolpec katerega potrebujemo je samo `winner`."
   ]
  },
  {
   "cell_type": "code",
   "execution_count": 22,
   "metadata": {},
   "outputs": [],
   "source": [
    "chunks = pd.read_csv('data/games.csv', usecols=['winner'], chunksize=250)"
   ]
  },
  {
   "cell_type": "code",
   "execution_count": 23,
   "metadata": {},
   "outputs": [
    {
     "name": "stdout",
     "output_type": "stream",
     "text": [
      "Bolj se izplaca igrati z belimi figurami.\n"
     ]
    }
   ],
   "source": [
    "white, black, draw = 0, 0, 0\n",
    "\n",
    "for chunk in chunks:\n",
    "    white = white + chunk['winner'].value_counts()['white']\n",
    "    black = black + chunk['winner'].value_counts()['black']\n",
    "    draw = draw + chunk['winner'].value_counts()['draw']\n",
    "\n",
    "if white > black:\n",
    "    print('Bolj se izplaca igrati z belimi figurami.')\n",
    "elif white < black:\n",
    "    print('Bolj se izplaca igrati s crnimi figurami.')\n",
    "else:\n",
    "    ('Vseeno je.')"
   ]
  },
  {
   "cell_type": "markdown",
   "metadata": {},
   "source": [
    "# Ker opening_move je najboljši\n",
    "\n",
    "Iz dataseta bomo potegnili informacijo katera začetna poteza je najboljša, če smo White igralec.\n",
    "\n",
    "V `winner` stolpcu najdemo vrstice v katerih je bil White zmagovalni igralec. Nato iz teh vrstic najdemo začetno potezo (`opening_name`). In na koncu najdemo najbolj igrano začetno potezo."
   ]
  },
  {
   "cell_type": "code",
   "execution_count": 2,
   "metadata": {},
   "outputs": [],
   "source": [
    "# Ker pri tej nalogi ni več definiran chunksize, delam brez. Sicer gre na podoben način kot pri prvi nalogi."
   ]
  },
  {
   "cell_type": "code",
   "execution_count": 27,
   "metadata": {},
   "outputs": [],
   "source": [
    "data = pd.read_csv('data/games.csv', usecols=['winner', 'opening_name'])"
   ]
  },
  {
   "cell_type": "code",
   "execution_count": 47,
   "metadata": {},
   "outputs": [],
   "source": [
    "zmag_poteza = data.loc[data['winner']=='white', 'opening_name'].value_counts().head(1).index.values[0]"
   ]
  },
  {
   "cell_type": "code",
   "execution_count": 49,
   "metadata": {},
   "outputs": [
    {
     "name": "stdout",
     "output_type": "stream",
     "text": [
      "najboljsa zacetna poteza je Scandinavian Defense: Mieses-Kotroc Variation.\n"
     ]
    }
   ],
   "source": [
    "print('najboljsa zacetna poteza je '+str(zmag_poteza)+'.')"
   ]
  },
  {
   "cell_type": "markdown",
   "metadata": {},
   "source": [
    "# Best player\n",
    "\n",
    "Po bomo kateri igralec je bil največkrat zmagovalni.\n"
   ]
  },
  {
   "cell_type": "code",
   "execution_count": 53,
   "metadata": {},
   "outputs": [],
   "source": [
    "data = pd.read_csv('data/games.csv', usecols=['white_id', 'black_id', 'winner'])"
   ]
  },
  {
   "cell_type": "code",
   "execution_count": 54,
   "metadata": {},
   "outputs": [
    {
     "data": {
      "text/html": [
       "<div>\n",
       "<style scoped>\n",
       "    .dataframe tbody tr th:only-of-type {\n",
       "        vertical-align: middle;\n",
       "    }\n",
       "\n",
       "    .dataframe tbody tr th {\n",
       "        vertical-align: top;\n",
       "    }\n",
       "\n",
       "    .dataframe thead th {\n",
       "        text-align: right;\n",
       "    }\n",
       "</style>\n",
       "<table border=\"1\" class=\"dataframe\">\n",
       "  <thead>\n",
       "    <tr style=\"text-align: right;\">\n",
       "      <th></th>\n",
       "      <th>winner</th>\n",
       "      <th>white_id</th>\n",
       "      <th>black_id</th>\n",
       "    </tr>\n",
       "  </thead>\n",
       "  <tbody>\n",
       "    <tr>\n",
       "      <th>0</th>\n",
       "      <td>white</td>\n",
       "      <td>bourgris</td>\n",
       "      <td>a-00</td>\n",
       "    </tr>\n",
       "    <tr>\n",
       "      <th>1</th>\n",
       "      <td>black</td>\n",
       "      <td>a-00</td>\n",
       "      <td>skinnerua</td>\n",
       "    </tr>\n",
       "    <tr>\n",
       "      <th>2</th>\n",
       "      <td>white</td>\n",
       "      <td>ischia</td>\n",
       "      <td>a-00</td>\n",
       "    </tr>\n",
       "    <tr>\n",
       "      <th>3</th>\n",
       "      <td>white</td>\n",
       "      <td>daniamurashov</td>\n",
       "      <td>adivanov2009</td>\n",
       "    </tr>\n",
       "    <tr>\n",
       "      <th>4</th>\n",
       "      <td>white</td>\n",
       "      <td>nik221107</td>\n",
       "      <td>adivanov2009</td>\n",
       "    </tr>\n",
       "  </tbody>\n",
       "</table>\n",
       "</div>"
      ],
      "text/plain": [
       "  winner       white_id      black_id\n",
       "0  white       bourgris          a-00\n",
       "1  black           a-00     skinnerua\n",
       "2  white         ischia          a-00\n",
       "3  white  daniamurashov  adivanov2009\n",
       "4  white      nik221107  adivanov2009"
      ]
     },
     "execution_count": 54,
     "metadata": {},
     "output_type": "execute_result"
    }
   ],
   "source": [
    "data.head()"
   ]
  },
  {
   "cell_type": "code",
   "execution_count": 62,
   "metadata": {},
   "outputs": [],
   "source": [
    "wh = data['white_id'].loc[data['winner']=='white'].value_counts()\n",
    "bk = data['black_id'].loc[data['winner']=='black'].value_counts()"
   ]
  },
  {
   "cell_type": "code",
   "execution_count": 76,
   "metadata": {},
   "outputs": [
    {
     "data": {
      "text/plain": [
       "72.0"
      ]
     },
     "execution_count": 76,
     "metadata": {},
     "output_type": "execute_result"
    }
   ],
   "source": [
    "najvec_zmag = wh.add(bk).sort_values(ascending=False).head(1)\n",
    "najvec_zmag[0]"
   ]
  },
  {
   "cell_type": "code",
   "execution_count": 81,
   "metadata": {},
   "outputs": [
    {
     "name": "stdout",
     "output_type": "stream",
     "text": [
      "Najvec zmag (72) ima igralec taranga.\n"
     ]
    }
   ],
   "source": [
    "print('Najvec zmag ('+str(int(najvec_zmag[0]))+') ima igralec '+str(najvec_zmag.index.values[0])+'.')"
   ]
  },
  {
   "cell_type": "code",
   "execution_count": null,
   "metadata": {},
   "outputs": [],
   "source": [
    "#za vajo naredim se s chunki\n",
    "import pandas as pd\n",
    "data = pd.read_csv('games.csv', usecols=['white_id', 'black_id', 'winner'], chunksize=250)\n",
    "\n",
    "sez = []\n",
    "i = 0\n",
    "\n",
    "for chunk in data:\n",
    "    white = chunk[chunk['winner']=='white']\n",
    "    wh_count = white['white_id'].value_counts()\n",
    "    black = chunk[chunk['winner'] == 'black']\n",
    "    bk_count = black['black_id'].value_counts()\n",
    "    #print(type(bk_count))\n",
    "    if i == 0:\n",
    "        count = wh_count.add(bk_count, fill_value=0)\n",
    "        i = 1\n",
    "    else:\n",
    "        count = count.add(wh_count + bk_count, fill_value=0)\n",
    "\n",
    "print(count.idxmax(), count.max())"
   ]
  }
 ],
 "metadata": {
  "kernelspec": {
   "display_name": "Python 3",
   "language": "python",
   "name": "python3"
  },
  "language_info": {
   "codemirror_mode": {
    "name": "ipython",
    "version": 3
   },
   "file_extension": ".py",
   "mimetype": "text/x-python",
   "name": "python",
   "nbconvert_exporter": "python",
   "pygments_lexer": "ipython3",
   "version": "3.7.0"
  },
  "toc": {
   "base_numbering": 1,
   "nav_menu": {},
   "number_sections": true,
   "sideBar": true,
   "skip_h1_title": false,
   "title_cell": "Table of Contents",
   "title_sidebar": "Contents",
   "toc_cell": false,
   "toc_position": {},
   "toc_section_display": true,
   "toc_window_display": false
  }
 },
 "nbformat": 4,
 "nbformat_minor": 2
}
